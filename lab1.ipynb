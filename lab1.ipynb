{
  "nbformat": 4,
  "nbformat_minor": 0,
  "metadata": {
    "colab": {
      "provenance": [],
      "authorship_tag": "ABX9TyNGdW0dxKlHszq5P15pXO5t",
      "include_colab_link": true
    },
    "kernelspec": {
      "name": "python3",
      "display_name": "Python 3"
    },
    "language_info": {
      "name": "python"
    }
  },
  "cells": [
    {
      "cell_type": "markdown",
      "metadata": {
        "id": "view-in-github",
        "colab_type": "text"
      },
      "source": [
        "<a href=\"https://colab.research.google.com/github/Mirrga/HomeWorks/blob/main/lab1.ipynb\" target=\"_parent\"><img src=\"https://colab.research.google.com/assets/colab-badge.svg\" alt=\"Open In Colab\"/></a>"
      ]
    },
    {
      "cell_type": "markdown",
      "source": [],
      "metadata": {
        "id": "WhTLqaUQJGIW"
      }
    },
    {
      "cell_type": "markdown",
      "source": [
        "![image.png](data:image/png;base64,iVBORw0KGgoAAAANSUhEUgAAAKcAAAAwCAYAAAB0dWoXAAAAAXNSR0IArs4c6QAAAARnQU1BAACxjwv8YQUAAAAJcEhZcwAADsMAAA7DAcdvqGQAAAVeSURBVHhe7Z27LzVPGMfH7w8gopaIS6GiQCHoXEIrcSk0CrdOgVCLUCpcEpVISGgJGgUaFFQaFKIk/oT33e+cmeM5885Z6+z8znkSzyd5srM7szOzO9+5PXu8b9mfCCUIDPnPHAWBHSJOgS0iToEtIk6BLSJOgS0iToEtIk6BLSJOgS0iToEtIk6BLSJOgS0iToEtIk6BLSJOgS0iToEtIk6BLSJOgS1FE+fV1ZUqKytLbH19fWppaUm9vLyYHAQunJycqOHh4Wxb1dfXq7W1NfXx8WFSBAJ/plFMLi8v/1RWVuJPQ7K2urqq456fn3WYxiO8v7+v44XSMzU1ldN21FpaWkyqMBR9Wu/o6FBtbW3mLJfa2lo1Nzen9vb2zBWlPj8/1fT0tIygDMBMVlNTo97f3zGoqWjQUNHgYWKVuru7UwcHB+YsPSzXnP39/TkPDYEeHR2ZM6EUPDw8qIqKCj14VFVV6WuY2ldWVnTY8vr6akLpYbshyje6CqWhqalJC9OlurrahDIMDg6aUHrYivPm5saEMqDXCvxYX1/XR8x0mOaxNAsFS3Fub2/rqdwSLbS9PRK7Q6TFzp7u9DHdYBqiYDdJ08BwH9K1trZmryGM3agLvY+aL19riKP8pL6ApqGWpExfXJzBm5IUPAfeEZ7j7OxMX+vp6VHd3d06HIzMvqi49Pb25uzy7G79/v5eh+117NSxO4wW4DqegrSIr6ur07t8QO+FwTNAOT4+zonHvciDXrO2uLho7sqAMty0W1tbOg71Q140zj6TpZD6+vJNWibOaX7uO7egLsjHLTsONy9ryAfPGQoW4vQZHtQ2hA8rFKSj4qV5oBwXGg8bGhrS98PcerkNFhf/3b2F1rfQMtGpKW5aCt6zW984UH90dDdPWEh3EsuRk45QCLsiRTrf/YBeRzkuNN4Vipvvdw1sGxR50DrTOJCmvvnKBHFxLm7aUKBtaL6wUKMnqzWn3RFeXFyYKxk30uTkZM76DemiaVeHI4Fl16M//UKBLxvWLQKQL+X8/NyE4pmZmTEhP6Hqy5GJiQkVdTZzlsGuQ9PCckOExoxGLXOWYX5+Pqcxl5eX0f3V09OTPoejHgv0tEQjjAkpFa3HTCg/2OBAcN+5vkLVt7OzM7uJCSWCtGBAiWYOcxYOtq6krq4uE/ri8fHRhDLgqxEaGeIAt7e3+lgs3t7e1M7OjpqdnTVX4glR32jq1iKH0Y5UauBxsLS3t5tQOtiKs7y83IT84DMZXEybm5sq2tSojY0NExMOK6J8QGgQJ10a5KMY9S0l+KwJMII2NjbqcFrYivP6+tqEvrAPjRFoZGQk6wsdGxvTxxDQqRK+uzgWFhb+Waf6+D/rWyzQEbGUwNG3Vj48PNRHvJMknTUJLMWJh8cIQ8Gi2z60+519d3dXH7H+o9j1XT7cl+z+uGR0dNSE/CSdvkLVt5TY9sCxoaFBzwR4fzAIFj/6wMwwPj6u0wUhWrsUFbg7XLeL9TUC+M+i6TQnnrpeAH5CR+Ot4bp7L8rK51dEWriL4IhGGtTDxrlOeJ+7yNYLcW651P1VaH3j8v2uTAqej6aDxbmdfMB/6eZBDa4qW+9QFE2ceBm+h/IZGggPi8a3X1NcIB6b3goMoBzbaMjD9bnZe2w87qOiRCOgg7jQ+6ihjr7rMNqpCqmvTe9a0jItvnSwnwgUwkO9aYdAGO/up0JPyq/7N+GxbrJEYlCnp6fmTOAG2w2RIIg4BbaIOAW2/Cpxur/ThE/T9ztKgQe/Rpz44cjAwIA5+6K5uTnIN3khPPI/uAlskTWnwBYRp8AWEafAFhGnwBYRp8AUpf4CLy0Qki5d/2YAAAAASUVORK5CYII=)"
      ],
      "metadata": {
        "id": "xRkadedWReMa"
      }
    },
    {
      "cell_type": "markdown",
      "source": [
        "![Снимок экрана 2025-03-18 110051.png](data:image/png;base64,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)"
      ],
      "metadata": {
        "id": "z1LgdIO4RhKI"
      }
    },
    {
      "cell_type": "code",
      "source": [
        "b = int(input())\n",
        "y = (5*b - 10)/(4 - 4*b - b**2)\n",
        "print(y)"
      ],
      "metadata": {
        "id": "13fdm5kORkZC"
      },
      "execution_count": null,
      "outputs": []
    }
  ]
}