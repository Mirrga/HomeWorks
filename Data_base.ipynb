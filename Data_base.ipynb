{
  "nbformat": 4,
  "nbformat_minor": 0,
  "metadata": {
    "colab": {
      "provenance": [],
      "authorship_tag": "ABX9TyM/ZHH9efEUIoPcXYcgnSAy",
      "include_colab_link": true
    },
    "kernelspec": {
      "name": "python3",
      "display_name": "Python 3"
    },
    "language_info": {
      "name": "python"
    }
  },
  "cells": [
    {
      "cell_type": "markdown",
      "metadata": {
        "id": "view-in-github",
        "colab_type": "text"
      },
      "source": [
        "<a href=\"https://colab.research.google.com/github/Mirrga/HomeWorks/blob/main/Data_base.ipynb\" target=\"_parent\"><img src=\"https://colab.research.google.com/assets/colab-badge.svg\" alt=\"Open In Colab\"/></a>"
      ]
    },
    {
      "cell_type": "markdown",
      "source": [
        "1. Создание базы данных и таблиц\n",
        "Создайте базу данных library.db и таблицу books с полями:\n",
        "\n",
        "id (PRIMARY KEY, AUTOINCREMENT),\n",
        "title (TEXT, NOT NULL),\n",
        "author (TEXT, NOT NULL),\n",
        "year_published (INTEGER),\n",
        "genre (TEXT)."
      ],
      "metadata": {
        "id": "tdjkzdD4_I0c"
      }
    },
    {
      "cell_type": "code",
      "source": [
        "import sqlite3\n",
        "connection = sqlite3.connect('library.db')\n",
        "cursor = connection.cursor()\n",
        "create_table_query = '''\n",
        "    CREATE TABLE IF NOT EXISTS\n",
        "    books (\n",
        "        id INTEGER PRIMARY KEY AUTOINCREMENT,\n",
        "        title TEXT NOT NULL,\n",
        "        author TEXT NOT NULL,\n",
        "        year_published INTEGER,\n",
        "        genre TEXT\n",
        "    )\n",
        "'''\n",
        "cursor.execute(create_table_query)\n",
        "connection.commit()\n",
        "connection.close()"
      ],
      "metadata": {
        "id": "TYoAjILf_JWw"
      },
      "execution_count": null,
      "outputs": []
    },
    {
      "cell_type": "markdown",
      "source": [
        "2. Вставка данных\n",
        "Добавьте в таблицу books следующие записи:\n",
        "\n",
        "\"The Great Gatsby\", автор: F. Scott Fitzgerald, год: 1925, жанр: Fiction.\n",
        "\"1984\", автор: George Orwell, год: 1949, жанр: Dystopian.\n",
        "\"To Kill a Mockingbird\", автор: Harper Lee, год: 1960, жанр: Classic."
      ],
      "metadata": {
        "id": "Ujkl2R5q_P5D"
      }
    },
    {
      "cell_type": "code",
      "source": [
        "import sqlite3\n",
        "connection = sqlite3.connect('library.db')\n",
        "cursor = connection.cursor()\n",
        "insert_query = '''\n",
        "INSERT INTO books (title, author, year_published, genre)\n",
        "VALUES(?, ?, ?, ?)\n",
        "'''\n",
        "books_data = [\n",
        "    (\"The Great Gatsby\", 'F. Scott Fitzgerald', 1925, 'Fiction'),\n",
        "    (\"1984\", 'George Orwell', 1949, 'Dystopian'),\n",
        "    (\"To Kill a Mockingbird\", 'Harper Lee', 1960, 'Classic')\n",
        "]\n",
        "\n",
        "cursor.executemany(insert_query, books_data)\n",
        "connection.commit()"
      ],
      "metadata": {
        "id": "Oa6jDJJA_Sd5"
      },
      "execution_count": null,
      "outputs": []
    },
    {
      "cell_type": "markdown",
      "source": [
        "3. Выборка всех данных\n",
        "Напишите запрос, который выбирает все книги из таблицы books."
      ],
      "metadata": {
        "id": "lRg_SMHk_VoB"
      }
    },
    {
      "cell_type": "code",
      "source": [
        "import sqlite3\n",
        "connection = sqlite3.connect('library.db')\n",
        "cursor = connection.cursor()\n",
        "select_query = '''\n",
        "SELECT * FROM books\n",
        "'''\n",
        "cursor.execute(select_query)\n",
        "rows = cursor.fetchall()\n",
        "for row in rows:\n",
        "    print(row)\n",
        "connection.close()"
      ],
      "metadata": {
        "id": "J6araYdb_Xx8"
      },
      "execution_count": null,
      "outputs": []
    },
    {
      "cell_type": "markdown",
      "source": [
        "4. Фильтрация данных\n",
        "Выберите все книги, опубликованные после 1950 года."
      ],
      "metadata": {
        "id": "jqYgEG-S_Z3q"
      }
    },
    {
      "cell_type": "code",
      "source": [
        "import sqlite3\n",
        "connection = sqlite3.connect('library.db')\n",
        "cursor = connection.cursor()\n",
        "select_query = '''\n",
        "SELECT * FROM books WHERE year_published > 1950\n",
        "'''\n",
        "cursor.execute(select_query)\n",
        "rows = cursor.fetchall()\n",
        "for row in rows:\n",
        "    print(row)\n",
        "connection.close()"
      ],
      "metadata": {
        "id": "amFtu9Nd_br8"
      },
      "execution_count": null,
      "outputs": []
    },
    {
      "cell_type": "markdown",
      "source": [
        "5. Использование оператора LIKE\n",
        "Найдите все книги, название которых начинается с буквы \"T\"."
      ],
      "metadata": {
        "id": "PtDcqZo9_ddp"
      }
    },
    {
      "cell_type": "code",
      "source": [
        "import sqlite3\n",
        "connection = sqlite3.connect('library.db')\n",
        "cursor = connection.cursor()\n",
        "select_query = '''\n",
        "SELECT * FROM books WHERE title LIKE 'T%'\n",
        "'''\n",
        "cursor.execute(select_query)\n",
        "rows = cursor.fetchall()\n",
        "for row in rows:\n",
        "    print(row)\n",
        "connection.close()"
      ],
      "metadata": {
        "id": "tbHiZTq7_fW0"
      },
      "execution_count": null,
      "outputs": []
    },
    {
      "cell_type": "markdown",
      "source": [
        "6. Сортировка данных\n",
        "Отсортируйте книги по году публикации в порядке возрастания."
      ],
      "metadata": {
        "id": "V0-eyTv5_g8M"
      }
    },
    {
      "cell_type": "code",
      "source": [
        "import sqlite3\n",
        "connection = sqlite3.connect('library.db')\n",
        "cursor = connection.cursor()\n",
        "select_query = '''\n",
        "SELECT * FROM books ORDER BY year_published\n",
        "'''\n",
        "cursor.execute(select_query)\n",
        "rows = cursor.fetchall()\n",
        "for row in rows:\n",
        "    print(row)\n",
        "connection.close()"
      ],
      "metadata": {
        "id": "_tF9qn1R_ilF"
      },
      "execution_count": null,
      "outputs": []
    },
    {
      "cell_type": "markdown",
      "source": [
        "7. Ограничение количества строк\n",
        "Выберите первые две книги из таблицы books, отсортированные по названию."
      ],
      "metadata": {
        "id": "ia7vhh3F_k27"
      }
    },
    {
      "cell_type": "code",
      "source": [
        "import sqlite3\n",
        "connection = sqlite3.connect('library.db')\n",
        "cursor = connection.cursor()\n",
        "select_query = '''\n",
        "SELECT * FROM(\n",
        "    SELECT * FROM books LIMIT 2\n",
        ")   AS limited_books ORDER BY title\n",
        "'''\n",
        "cursor.execute(select_query)\n",
        "rows = cursor.fetchall()\n",
        "for row in rows:\n",
        "    print(row)\n",
        "connection.close()"
      ],
      "metadata": {
        "id": "zCMhCN5T_n0Z"
      },
      "execution_count": null,
      "outputs": []
    },
    {
      "cell_type": "markdown",
      "source": [
        "8. Агрегатные функции\n",
        "Подсчитайте общее количество книг в таблице books."
      ],
      "metadata": {
        "id": "Kp1aNw2P_qfe"
      }
    },
    {
      "cell_type": "code",
      "source": [
        "import sqlite3\n",
        "connection = sqlite3.connect('library.db')\n",
        "cursor = connection.cursor()\n",
        "select_query = '''\n",
        "SELECT COUNT(*) AS total_books FROM books\n",
        "'''\n",
        "cursor.execute(select_query)\n",
        "res = cursor.fetchone()\n",
        "print(f'Всего книг: {res}')"
      ],
      "metadata": {
        "id": "r7NQcu7Z_sAT"
      },
      "execution_count": null,
      "outputs": []
    },
    {
      "cell_type": "markdown",
      "source": [
        "9. Группировка данных\n",
        "Подсчитайте количество книг для каждого жанра."
      ],
      "metadata": {
        "id": "i2F0J0Ok_tlc"
      }
    },
    {
      "cell_type": "code",
      "source": [
        "coding=utf-8\n",
        "import sqlite3\n",
        "connection = sqlite3.connect('library.db')\n",
        "cursor = connection.cursor()\n",
        "select_query = '''\n",
        "SELECT genre, COUNT(*) AS count FROM books GROUP BY genre\n",
        "'''\n",
        "cursor.execute(select_query)\n",
        "res = cursor.fetchall()\n",
        "print(f'Количество книг каждого жанра: {res}')"
      ],
      "metadata": {
        "id": "DfFLRJ0o_vMw"
      },
      "execution_count": null,
      "outputs": []
    },
    {
      "cell_type": "markdown",
      "source": [
        "10. Обновление данных\n",
        "Обновите год публикации книги \"1984\" на 1948."
      ],
      "metadata": {
        "id": "93k3U-i4_xDs"
      }
    },
    {
      "cell_type": "code",
      "source": [
        "import sqlite3\n",
        "connection = sqlite3.connect('library.db')\n",
        "cursor = connection.cursor()\n",
        "update_query = '''\n",
        "UPDATE books\n",
        "SET year_published = ?\n",
        "WHERE title = ?\n",
        "'''\n",
        "new_year = 1948\n",
        "book_title = '1984'\n",
        "cursor.execute(update_query, (new_year, book_title))\n",
        "connection.commit()\n",
        "connection.close()"
      ],
      "metadata": {
        "id": "hkZ5SmmK_y5T"
      },
      "execution_count": null,
      "outputs": []
    },
    {
      "cell_type": "markdown",
      "source": [
        "11. Удаление данных\n",
        "Удалите книгу с названием \"The Great Gatsby\"."
      ],
      "metadata": {
        "id": "5pMYHs03_6Nx"
      }
    },
    {
      "cell_type": "code",
      "source": [
        "import sqlite3\n",
        "connection = sqlite3.connect('library.db')\n",
        "cursor = connection.cursor()\n",
        "delete_query = '''\n",
        "DELETE FROM books WHERE title = ?\n",
        "'''\n",
        "book_title = '\"The Great Gatsby\"'\n",
        "cursor.execute(delete_query, (book_title,))\n",
        "connection.commit()\n",
        "connection.close()"
      ],
      "metadata": {
        "id": "zSBOelXs_60q"
      },
      "execution_count": null,
      "outputs": []
    },
    {
      "cell_type": "markdown",
      "source": [
        "12. Создание индекса\n",
        "Создайте индекс для столбца author в таблице books."
      ],
      "metadata": {
        "id": "uOiQDjPQ_8ST"
      }
    },
    {
      "cell_type": "code",
      "source": [
        "import sqlite3\n",
        "connection = sqlite3.connect('library.db')\n",
        "cursor = connection.cursor()\n",
        "create_index_query = '''\n",
        "CREATE INDEX IF NOT EXISTS idx_books_author\n",
        "ON books (author)\n",
        "'''\n",
        "cursor.execute(create_index_query)\n",
        "connection.commit()\n",
        "connection.close()"
      ],
      "metadata": {
        "id": "ci_J7u1J_93L"
      },
      "execution_count": null,
      "outputs": []
    },
    {
      "cell_type": "markdown",
      "source": [
        "13. Проверка существования индекса\n",
        "Проверьте, существует ли индекс для столбца author."
      ],
      "metadata": {
        "id": "BZR4CCiW__UC"
      }
    },
    {
      "cell_type": "code",
      "source": [
        "import sqlite3\n",
        "connection = sqlite3.connect('library.db')\n",
        "cursor = connection.cursor()\n",
        "cursor.execute('''\n",
        "SELECT name FROM sqlite_master WHERE type='index' AND\n",
        "name='idx_books_author'\n",
        "''')\n",
        "result = cursor.fetchone()\n",
        "\n",
        "if result:\n",
        "    print(f\"Индекс '{result[0]}' существует.\")\n",
        "else:\n",
        "    print(\"Индекс не существует.\")\n",
        "connection.close()"
      ],
      "metadata": {
        "id": "84e_fJtNABSU"
      },
      "execution_count": null,
      "outputs": []
    },
    {
      "cell_type": "markdown",
      "source": [
        "14. Триггер для логирования\n",
        "Создайте триггер, который записывает изменения в таблицу logs при добавлении новой книги."
      ],
      "metadata": {
        "id": "mnccLsz0AE65"
      }
    },
    {
      "cell_type": "code",
      "source": [
        "import sqlite3\n",
        "connection = sqlite3.connect('library.db')\n",
        "cursor = connection.cursor()\n",
        "\n",
        "cursor.execute('''\n",
        "CREATE TABLE IF NOT EXISTS books (\n",
        "    id INTEGER PRIMARY KEY AUTOINCREMENT,\n",
        "    title TEXT NOT NULL,\n",
        "    author TEXT NOT NULL,\n",
        "    year_published INTEGER,\n",
        "    genre TEXT\n",
        ")\n",
        "''')\n",
        "\n",
        "cursor.execute('''\n",
        "CREATE TABLE IF NOT EXISTS book_logs (\n",
        "    id INTEGER PRIMARY KEY AUTOINCREMENT,\n",
        "    book_id INTEGER,\n",
        "    action TEXT,\n",
        "    timestamp DATETIME DEFAULT CURRENT_TIMESTAMP\n",
        ")\n",
        "''')\n",
        "\n",
        "create_trigger_query = '''\n",
        "CREATE TRIGGER IF NOT EXISTS log_book_changes\n",
        "AFTER INSERT ON books\n",
        "FOR EACH ROW\n",
        "BEGIN\n",
        "    INSERT INTO book_logs (book_id, action)\n",
        "    VALUES (NEW.id, 'INSERT');\n",
        "END;\n",
        "'''\n",
        "\n",
        "cursor.execute(create_trigger_query)\n",
        "connection.commit()\n",
        "connection.close()"
      ],
      "metadata": {
        "id": "tWpWzpimAFbZ"
      },
      "execution_count": null,
      "outputs": []
    },
    {
      "cell_type": "markdown",
      "source": [
        "15. Транзакции\n",
        "Создайте программу, которая выполняет следующие действия в рамках одной транзакции:\n",
        "\n",
        "1.Добавляет новую книгу.\n",
        "\n",
        "2.Обновляет год публикации другой книги.\n",
        "\n",
        "3.Отменяет изменения, если возникает ошибка."
      ],
      "metadata": {
        "id": "MastcdAtAJYk"
      }
    },
    {
      "cell_type": "code",
      "source": [
        "import sqlite3\n",
        "connection = sqlite3.connect('library.db')\n",
        "cursor = connection.cursor()\n",
        "\n",
        "try:\n",
        "    cursor.execute('BEGIN TRANSACTION')\n",
        "\n",
        "    cursor.execute('''\n",
        "    INSERT INTO books (title, author, year_published, genre)\n",
        "    VALUES (?, ?, ?, ?);\n",
        "    ''', ('Le Petit Prince', 'Antoine de Saint-Exupery', 1943, 'philosophical tale'))\n",
        "\n",
        "    cursor.execute('''\n",
        "    UPDATE books\n",
        "    SET year_published = year_published + 5\n",
        "    WHERE title = ?;\n",
        "    ''', ('\"To Kill a Mockingbird\"',))\n",
        "\n",
        "    connection.commit()\n",
        "    print(\"Транзакция успешно завершена.\")\n",
        "except Exception as e:\n",
        "    connection.rollback()\n",
        "    print(f\"Ошибка: {e}. Изменения отменены.\")\n",
        "finally:\n",
        "    connection.close()"
      ],
      "metadata": {
        "id": "4Ac5brKDAWL4"
      },
      "execution_count": null,
      "outputs": []
    },
    {
      "cell_type": "markdown",
      "source": [
        "16. Пользовательская функция\n",
        "Создайте пользовательскую функцию на Python, которая вычисляет возраст книги (текущий год минус год публикации), и используйте её в SQL-запросе."
      ],
      "metadata": {
        "id": "k5Vp8uWMAYzl"
      }
    },
    {
      "cell_type": "code",
      "source": [
        "import sqlite3\n",
        "def calculate_age(year_published):\n",
        "    from datetime import datetime\n",
        "    current_year = datetime.now().year\n",
        "    return current_year - year_published\n",
        "\n",
        "connection = sqlite3.connect('library.db')\n",
        "cursor = connection.cursor()\n",
        "connection.create_function(\"calculate_age\", 1, calculate_age)\n",
        "cursor.execute('''\n",
        "SELECT title, calculate_age(year_published) AS year_published FROM books;\n",
        "''')\n",
        "\n",
        "rows = cursor.fetchall()\n",
        "for row in rows:\n",
        "    print(row)\n",
        "\n",
        "connection.close()"
      ],
      "metadata": {
        "id": "FiHu1w7yAbPD"
      },
      "execution_count": null,
      "outputs": []
    },
    {
      "cell_type": "markdown",
      "source": [
        "17. Представления\n",
        "Создайте представление modern_books, которое содержит книги, опубликованные после 1950 года."
      ],
      "metadata": {
        "id": "HxNcs1WMAdBN"
      }
    },
    {
      "cell_type": "code",
      "source": [
        "import sqlite3\n",
        "connection = sqlite3.connect('library.db')\n",
        "cursor = connection.cursor()\n",
        "cursor.execute('''\n",
        "CREATE VIEW IF NOT EXISTS modern_books AS\n",
        "SELECT * FROM books WHERE year_published > 1950;\n",
        "''')\n",
        "\n",
        "cursor.execute('SELECT * FROM modern_books;')\n",
        "\n",
        "rows = cursor.fetchall()\n",
        "for row in rows:\n",
        "    print(row)\n",
        "connection.close()"
      ],
      "metadata": {
        "id": "9zLLj86nAfOT"
      },
      "execution_count": null,
      "outputs": []
    },
    {
      "cell_type": "markdown",
      "source": [
        "18. Удаление таблицы\n",
        "Удалите таблицу books и проверьте её существование."
      ],
      "metadata": {
        "id": "tZCkMhBgAgsb"
      }
    },
    {
      "cell_type": "code",
      "source": [
        "import sqlite3\n",
        "connection = sqlite3.connect('library.db')\n",
        "cursor = connection.cursor()\n",
        "cursor.execute('''\n",
        "SELECT name FROM sqlite_master WHERE type='table' AND name='books';\n",
        "''')\n",
        "result = cursor.fetchone()\n",
        "if result:\n",
        "    print(\"Таблица 'books' существует. Удаляем...\")\n",
        "    cursor.execute('DROP TABLE books')\n",
        "else:\n",
        "    print(\"Таблица 'users' не существует.\")\n",
        "connection.commit()\n",
        "connection.close()"
      ],
      "metadata": {
        "id": "PXznF8glAijL"
      },
      "execution_count": null,
      "outputs": []
    },
    {
      "cell_type": "markdown",
      "source": [
        "19. Композитный индекс\n",
        "Создайте композитный индекс для столбцов author и year_published в таблице books."
      ],
      "metadata": {
        "id": "GrgQFQXlAkAM"
      }
    },
    {
      "cell_type": "code",
      "source": [
        "import sqlite3\n",
        "connection = sqlite3.connect('library.db')\n",
        "cursor = connection.cursor()\n",
        "create_composite_index_query = '''\n",
        "CREATE INDEX IF NOT EXISTS idx_books_author_year_published\n",
        "ON books (author, year_published);\n",
        "'''\n",
        "cursor.execute(create_composite_index_query)\n",
        "connection.commit()\n",
        "connection.close()"
      ],
      "metadata": {
        "id": "bMy2hG0cAlcc"
      },
      "execution_count": null,
      "outputs": []
    },
    {
      "cell_type": "markdown",
      "source": [
        "20. Удаление базы данных\n",
        "Напишите программу, которая удаляет файл базы данных library.db, если он существует."
      ],
      "metadata": {
        "id": "TIHT_9ySAn85"
      }
    },
    {
      "cell_type": "code",
      "source": [
        "import os\n",
        "db_file = 'library.db'\n",
        "\n",
        "if os.path.exists(db_file):\n",
        "    print(f\"Удаляем базу данных '{db_file}'...\")\n",
        "    os.remove(db_file)\n",
        "else:\n",
        "    print(f\"База данных '{db_file}' не существует.\")"
      ],
      "metadata": {
        "id": "MWWzM1PMAp3N"
      },
      "execution_count": null,
      "outputs": []
    }
  ]
}